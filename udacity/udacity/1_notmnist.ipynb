{
 "cells": [
  {
   "cell_type": "markdown",
   "metadata": {
    "colab_type": "text",
    "id": "5hIbr52I7Z7U"
   },
   "source": [
    "Deep Learning\n",
    "=============\n",
    "\n",
    "Assignment 1\n",
    "------------\n",
    "\n",
    "The objective of this assignment is to learn about simple data curation practices, and familiarize you with some of the data we'll be reusing later.\n",
    "\n",
    "This notebook uses the [notMNIST](http://yaroslavvb.blogspot.com/2011/09/notmnist-dataset.html) dataset to be used with python experiments. This dataset is designed to look like the classic [MNIST](http://yann.lecun.com/exdb/mnist/) dataset, while looking a little more like real data: it's a harder task, and the data is a lot less 'clean' than MNIST."
   ]
  },
  {
   "cell_type": "code",
   "execution_count": 1,
   "metadata": {
    "cellView": "both",
    "colab": {
     "autoexec": {
      "startup": false,
      "wait_interval": 0
     }
    },
    "colab_type": "code",
    "collapsed": false,
    "id": "apJbCsBHl-2A"
   },
   "outputs": [],
   "source": [
    "# These are all the modules we'll be using later. Make sure you can import them\n",
    "# before proceeding further.\n",
    "from __future__ import print_function\n",
    "import matplotlib.pyplot as plt\n",
    "import numpy as np\n",
    "import os\n",
    "import sys\n",
    "import tarfile\n",
    "from IPython.display import display, Image\n",
    "from scipy import ndimage\n",
    "from sklearn.linear_model import LogisticRegression\n",
    "from six.moves.urllib.request import urlretrieve\n",
    "from six.moves import cPickle as pickle"
   ]
  },
  {
   "cell_type": "markdown",
   "metadata": {
    "colab_type": "text",
    "id": "jNWGtZaXn-5j"
   },
   "source": [
    "First, we'll download the dataset to our local machine. The data consists of characters rendered in a variety of fonts on a 28x28 image. The labels are limited to 'A' through 'J' (10 classes). The training set has about 500k and the testset 19000 labelled examples. Given these sizes, it should be possible to train models quickly on any machine."
   ]
  },
  {
   "cell_type": "code",
   "execution_count": 2,
   "metadata": {
    "cellView": "both",
    "colab": {
     "autoexec": {
      "startup": false,
      "wait_interval": 0
     },
     "output_extras": [
      {
       "item_id": 1
      }
     ]
    },
    "colab_type": "code",
    "collapsed": false,
    "executionInfo": {
     "elapsed": 186058,
     "status": "ok",
     "timestamp": 1444485672507,
     "user": {
      "color": "#1FA15D",
      "displayName": "Vincent Vanhoucke",
      "isAnonymous": false,
      "isMe": true,
      "permissionId": "05076109866853157986",
      "photoUrl": "//lh6.googleusercontent.com/-cCJa7dTDcgQ/AAAAAAAAAAI/AAAAAAAACgw/r2EZ_8oYer4/s50-c-k-no/photo.jpg",
      "sessionId": "2a0a5e044bb03b66",
      "userId": "102167687554210253930"
     },
     "user_tz": 420
    },
    "id": "EYRJ4ICW6-da",
    "outputId": "0d0f85df-155f-4a89-8e7e-ee32df36ec8d",
    "scrolled": true
   },
   "outputs": [
    {
     "name": "stdout",
     "output_type": "stream",
     "text": [
      "Found and verified notMNIST_large.tar.gz\n",
      "Found and verified notMNIST_small.tar.gz\n"
     ]
    }
   ],
   "source": [
    "url = 'http://yaroslavvb.com/upload/notMNIST/'\n",
    "\n",
    "def maybe_download(filename, expected_bytes, force=False):\n",
    "  \"\"\"Download a file if not present, and make sure it's the right size.\"\"\"\n",
    "  if force or not os.path.exists(filename):\n",
    "    filename, _ = urlretrieve(url + filename, filename)\n",
    "  statinfo = os.stat(filename)\n",
    "  if statinfo.st_size == expected_bytes:\n",
    "    print('Found and verified', filename)\n",
    "  else:\n",
    "    raise Exception(\n",
    "      'Failed to verify ' + filename + '. Can you get to it with a browser?')\n",
    "  return filename\n",
    "\n",
    "strRawCompressedTrainSetFilename = maybe_download('notMNIST_large.tar.gz', 247336696)\n",
    "strRawCompressedTestSetFilename = maybe_download('notMNIST_small.tar.gz', 8458043)"
   ]
  },
  {
   "cell_type": "markdown",
   "metadata": {
    "colab_type": "text",
    "id": "cC3p0oEyF8QT"
   },
   "source": [
    "Extract the dataset from the compressed .tar.gz file.\n",
    "This should give you a set of directories, labelled A through J."
   ]
  },
  {
   "cell_type": "code",
   "execution_count": 3,
   "metadata": {
    "cellView": "both",
    "colab": {
     "autoexec": {
      "startup": false,
      "wait_interval": 0
     },
     "output_extras": [
      {
       "item_id": 1
      }
     ]
    },
    "colab_type": "code",
    "collapsed": false,
    "executionInfo": {
     "elapsed": 186055,
     "status": "ok",
     "timestamp": 1444485672525,
     "user": {
      "color": "#1FA15D",
      "displayName": "Vincent Vanhoucke",
      "isAnonymous": false,
      "isMe": true,
      "permissionId": "05076109866853157986",
      "photoUrl": "//lh6.googleusercontent.com/-cCJa7dTDcgQ/AAAAAAAAAAI/AAAAAAAACgw/r2EZ_8oYer4/s50-c-k-no/photo.jpg",
      "sessionId": "2a0a5e044bb03b66",
      "userId": "102167687554210253930"
     },
     "user_tz": 420
    },
    "id": "H8CBE-WZ8nmj",
    "outputId": "ef6c790c-2513-4b09-962e-27c79390c762"
   },
   "outputs": [
    {
     "name": "stdout",
     "output_type": "stream",
     "text": [
      "s_strListExtractedTrainFolderNames: \n",
      "notMNIST_large already present - Skipping extraction of notMNIST_large.tar.gz.\n",
      "['notMNIST_large/A', 'notMNIST_large/B', 'notMNIST_large/C', 'notMNIST_large/D', 'notMNIST_large/E', 'notMNIST_large/F', 'notMNIST_large/G', 'notMNIST_large/H', 'notMNIST_large/I', 'notMNIST_large/J']\n",
      "\n",
      "s_strListExtractedTestFolderNames: \n",
      "notMNIST_small already present - Skipping extraction of notMNIST_small.tar.gz.\n",
      "['notMNIST_small/A', 'notMNIST_small/B', 'notMNIST_small/C', 'notMNIST_small/D', 'notMNIST_small/E', 'notMNIST_small/F', 'notMNIST_small/G', 'notMNIST_small/H', 'notMNIST_small/I', 'notMNIST_small/J']\n"
     ]
    }
   ],
   "source": [
    "s_iNum_classes = 10\n",
    "np.random.seed(133)\n",
    "\n",
    "def maybe_extract(filename, force=False):\n",
    "  root = os.path.splitext(os.path.splitext(filename)[0])[0]  # remove .tar.gz\n",
    "  if os.path.isdir(root) and not force:\n",
    "    # You may override by setting force=True.\n",
    "    print('%s already present - Skipping extraction of %s.' % (root, filename))\n",
    "  else:\n",
    "    print('Extracting data for %s. This may take a while. Please wait.' % root)\n",
    "    tar = tarfile.open(filename)\n",
    "    sys.stdout.flush()\n",
    "    tar.extractall()\n",
    "    tar.close()\n",
    "  data_folders = [\n",
    "    os.path.join(root, d) for d in sorted(os.listdir(root))\n",
    "    if os.path.isdir(os.path.join(root, d))]\n",
    "  if len(data_folders) != s_iNum_classes:\n",
    "    raise Exception(\n",
    "      'Expected %d folders, one per class. Found %d instead.' % (\n",
    "        s_iNum_classes, len(data_folders)))\n",
    "  print(data_folders)\n",
    "  return data_folders\n",
    "\n",
    "print(\"s_strListExtractedTrainFolderNames: \")\n",
    "s_strListExtractedTrainFolderNames = maybe_extract(strRawCompressedTrainSetFilename)\n",
    "print(\"\\ns_strListExtractedTestFolderNames: \")\n",
    "s_strListExtractedTestFolderNames = maybe_extract(strRawCompressedTestSetFilename)"
   ]
  },
  {
   "cell_type": "markdown",
   "metadata": {
    "colab_type": "text",
    "id": "4riXK3IoHgx6"
   },
   "source": [
    "---\n",
    "Problem 1\n",
    "---------\n",
    "\n",
    "Let's take a peek at some of the data to make sure it looks sensible. Each exemplar should be an image of a character A through J rendered in a different font. Display a sample of the images that we just downloaded. Hint: you can use the package IPython.display.\n",
    "\n",
    "---"
   ]
  },
  {
   "cell_type": "code",
   "execution_count": null,
   "metadata": {
    "collapsed": false
   },
   "outputs": [],
   "source": [
    "######################################## SKIP THIS CELL ############################################\n",
    "from IPython.display import Image\n",
    "Image(filename='./notMNIST_large/A/Z2xlZXN0ZWFrLnR0Zg==.png')"
   ]
  },
  {
   "cell_type": "markdown",
   "metadata": {
    "colab_type": "text",
    "id": "PBdkjESPK8tw"
   },
   "source": [
    "Now let's load the data in a more manageable format. Since, depending on your computer setup you might not be able to fit it all in memory, we'll load each class into a separate dataset, store them on disk and curate them independently. Later we'll merge them into a single dataset of manageable size.\n",
    "\n",
    "We'll convert the entire dataset into a 3D array (image index, x, y) of floating point values, normalized to have approximately zero mean and standard deviation ~0.5 to make training easier down the road. \n",
    "\n",
    "A few images might not be readable, we'll just skip them."
   ]
  },
  {
   "cell_type": "code",
   "execution_count": 4,
   "metadata": {
    "cellView": "both",
    "colab": {
     "autoexec": {
      "startup": false,
      "wait_interval": 0
     },
     "output_extras": [
      {
       "item_id": 30
      }
     ]
    },
    "colab_type": "code",
    "collapsed": false,
    "executionInfo": {
     "elapsed": 399874,
     "status": "ok",
     "timestamp": 1444485886378,
     "user": {
      "color": "#1FA15D",
      "displayName": "Vincent Vanhoucke",
      "isAnonymous": false,
      "isMe": true,
      "permissionId": "05076109866853157986",
      "photoUrl": "//lh6.googleusercontent.com/-cCJa7dTDcgQ/AAAAAAAAAAI/AAAAAAAACgw/r2EZ_8oYer4/s50-c-k-no/photo.jpg",
      "sessionId": "2a0a5e044bb03b66",
      "userId": "102167687554210253930"
     },
     "user_tz": 420
    },
    "id": "h7q0XhG3MJdf",
    "outputId": "92c391bb-86ff-431d-9ada-315568a19e59",
    "scrolled": true
   },
   "outputs": [
    {
     "name": "stdout",
     "output_type": "stream",
     "text": [
      "notMNIST_large/A.pickle already present - Skipping pickling.\n",
      "notMNIST_large/B.pickle already present - Skipping pickling.\n",
      "notMNIST_large/C.pickle already present - Skipping pickling.\n",
      "notMNIST_large/D.pickle already present - Skipping pickling.\n",
      "notMNIST_large/E.pickle already present - Skipping pickling.\n",
      "notMNIST_large/F.pickle already present - Skipping pickling.\n",
      "notMNIST_large/G.pickle already present - Skipping pickling.\n",
      "notMNIST_large/H.pickle already present - Skipping pickling.\n",
      "notMNIST_large/I.pickle already present - Skipping pickling.\n",
      "notMNIST_large/J.pickle already present - Skipping pickling.\n",
      "notMNIST_small/A.pickle already present - Skipping pickling.\n",
      "notMNIST_small/B.pickle already present - Skipping pickling.\n",
      "notMNIST_small/C.pickle already present - Skipping pickling.\n",
      "notMNIST_small/D.pickle already present - Skipping pickling.\n",
      "notMNIST_small/E.pickle already present - Skipping pickling.\n",
      "notMNIST_small/F.pickle already present - Skipping pickling.\n",
      "notMNIST_small/G.pickle already present - Skipping pickling.\n",
      "notMNIST_small/H.pickle already present - Skipping pickling.\n",
      "notMNIST_small/I.pickle already present - Skipping pickling.\n",
      "notMNIST_small/J.pickle already present - Skipping pickling.\n",
      "\n",
      "s_strListPickledTrainFilenames:  ['notMNIST_large/A.pickle', 'notMNIST_large/B.pickle', 'notMNIST_large/C.pickle', 'notMNIST_large/D.pickle', 'notMNIST_large/E.pickle', 'notMNIST_large/F.pickle', 'notMNIST_large/G.pickle', 'notMNIST_large/H.pickle', 'notMNIST_large/I.pickle', 'notMNIST_large/J.pickle']\n",
      "\n",
      "s_strListPickledTestFilenames:  ['notMNIST_small/A.pickle', 'notMNIST_small/B.pickle', 'notMNIST_small/C.pickle', 'notMNIST_small/D.pickle', 'notMNIST_small/E.pickle', 'notMNIST_small/F.pickle', 'notMNIST_small/G.pickle', 'notMNIST_small/H.pickle', 'notMNIST_small/I.pickle', 'notMNIST_small/J.pickle']\n"
     ]
    }
   ],
   "source": [
    "s_iImage_size = 28  # Pixel width and height.\n",
    "s_fPixel_depth = 255.0  # Number of levels per pixel.\n",
    "\n",
    "def load_letter(folder, min_num_images):\n",
    "  \"\"\"Load the data for a single letter label, insuring you have at least min_num_images.\"\"\"\n",
    "  image_files = os.listdir(folder)\n",
    "  #An ndarray is a (often fixed) multidimensional container of items of the same type and size\n",
    "  #so here, we're building a 3d array with indexes (image index, x,y), and type float32\n",
    "  dataset = np.ndarray(shape=(len(image_files), s_iImage_size, s_iImage_size), dtype=np.float32)\n",
    "  image_index = 0\n",
    "  #for each image in the current folder (A, B, etc)\n",
    "  print(folder)\n",
    "  for image in os.listdir(folder):\n",
    "    #get the full image path\n",
    "    image_file = os.path.join(folder, image)\n",
    "    try:\n",
    "      #read image as a bunch of floats, and normalize those floats by using pixel_depth \n",
    "      image_data = (ndimage.imread(image_file).astype(float) - s_fPixel_depth / 2) / s_fPixel_depth\n",
    "      #ensure image shape is standard\n",
    "      if image_data.shape != (s_iImage_size, s_iImage_size):\n",
    "        raise Exception('Unexpected image shape: %s' % str(image_data.shape))\n",
    "      #and put it in the dataset\n",
    "      dataset[image_index, :, :] = image_data\n",
    "      image_index += 1\n",
    "    except IOError as e:\n",
    "      print('Could not read:', image_file, ':', e, '- it\\'s ok, skipping.')\n",
    "    \n",
    "  num_images = image_index\n",
    "  dataset = dataset[0:num_images, :, :]\n",
    "  if num_images < min_num_images:\n",
    "    raise Exception('Many fewer images than expected: %d < %d' %\n",
    "                    (num_images, min_num_images))\n",
    "    \n",
    "  print('Full dataset tensor:', dataset.shape)\n",
    "  print('Mean:', np.mean(dataset))\n",
    "  print('Standard deviation:', np.std(dataset))\n",
    "  return dataset\n",
    "        \n",
    "def maybe_pickle(p_strDataFolderNames, p_iMin_num_images_per_class, p_bForce=False):\n",
    "  dataset_names = []\n",
    "  #data_folders are either the train or test set. folders within those are A, B, etc\n",
    "  for strCurFolderName in p_strDataFolderNames:\n",
    "    #we will serialize those subfolders (A, B, etc), that's what pickling is\n",
    "    strCurSetFilename = strCurFolderName + '.pickle'\n",
    "    #add the name of the current pickled subfolder to the list\n",
    "    dataset_names.append(strCurSetFilename)\n",
    "    #if the pickled folder already exists, skip\n",
    "    if os.path.exists(strCurSetFilename) and not p_bForce:\n",
    "      # You may override by setting force=True.\n",
    "      print('%s already present - Skipping pickling.' % strCurSetFilename)\n",
    "    else:\n",
    "      #call the load_letter function def above \n",
    "      print('Pickling %s.' % strCurSetFilename)\n",
    "      dataset = load_letter(strCurFolderName, p_iMin_num_images_per_class)\n",
    "      try:\n",
    "        #and try to pickle it\n",
    "        with open(strCurSetFilename, 'wb') as f:\n",
    "          pickle.dump(dataset, f, pickle.HIGHEST_PROTOCOL)\n",
    "      except Exception as e:\n",
    "        print('Unable to save data to', set_filename, ':', e)\n",
    "  \n",
    "  return dataset_names\n",
    "\n",
    "s_strListPickledTrainFilenames = maybe_pickle(s_strListExtractedTrainFolderNames, 45000)\n",
    "s_strListPickledTestFilenames = maybe_pickle(s_strListExtractedTestFolderNames, 1800)\n",
    "\n",
    "print(\"\\ns_strListPickledTrainFilenames: \", s_strListPickledTrainFilenames)\n",
    "print(\"\\ns_strListPickledTestFilenames: \", s_strListPickledTestFilenames)"
   ]
  },
  {
   "cell_type": "markdown",
   "metadata": {
    "colab_type": "text",
    "id": "vUdbskYE2d87"
   },
   "source": [
    "---\n",
    "Problem 2\n",
    "---------\n",
    "\n",
    "Let's verify that the data still looks good. Displaying a sample of the labels and images from the ndarray. Hint: you can use matplotlib.pyplot.\n",
    "\n",
    "---"
   ]
  },
  {
   "cell_type": "code",
   "execution_count": null,
   "metadata": {
    "collapsed": false
   },
   "outputs": [],
   "source": [
    "######################################## SKIP THIS CELL ############################################\n",
    "#un-serialize first sub-folder of the train set\n",
    "random_class_id = np.random.randint(0,s_iNum_classes)\n",
    "unpickled_rnd_train_set = pickle.load(open(s_strListPickledTrainFilenames[random_class_id]))\n",
    "#get xy array representing random image\n",
    "random_img_id = np.random.randint(0,unpickled_rnd_train_set.shape[0])\n",
    "first_img = unpickled_rnd_train_set[random_img_id,:,:]\n",
    "# checking image shape, it is 28x28 pixels\n",
    "# print(\"image %d from class %d with shape %d\" %(random_img_id, random_class_id, first_img.shape))\n",
    "print(\"image \", random_img_id, \" from class \", random_class_id, \" with shape \", first_img.shape)\n",
    "# denormalization, but commented since doesn't change anything for imshow. The way i understand\n",
    "# this, is that in these images, the each one of the 28x28 pixels is only encoding grayscale, not\n",
    "# rgb. And the imshow doc says that it can handle grayscale arrays that are normalized\n",
    "# (http://matplotlib.org/api/pyplot_api.html#matplotlib.pyplot.imshow). \n",
    "# s_fPixel_depth = 255.0  # Number of levels per pixel.\n",
    "# first_img = first_img*s_fPixel_depth + s_fPixel_depth/2\n",
    "# print(first_img[0,:])\n",
    "plt.imshow(first_img)\n",
    "plt.show()"
   ]
  },
  {
   "cell_type": "markdown",
   "metadata": {
    "colab_type": "text",
    "id": "cYznx5jUwzoO"
   },
   "source": [
    "---\n",
    "Problem 3\n",
    "---------\n",
    "Another check: we expect the data to be balanced across classes. Verify that.\n",
    "\n",
    "---"
   ]
  },
  {
   "cell_type": "code",
   "execution_count": null,
   "metadata": {
    "collapsed": false
   },
   "outputs": [],
   "source": [
    "######################################## SKIP THIS CELL ############################################\n",
    "#cycle through all train and test sets and count how many examples we have? Also need to check\n",
    "#their mean and variance?\n",
    "all_counts = np.zeros(s_iNum_classes)\n",
    "all_means = np.zeros(s_iNum_classes)\n",
    "all_variances = np.zeros(s_iNum_classes)\n",
    "\n",
    "#for cur_class_id, cur_class in enumerate(unpickled_all_train_sets):\n",
    "for cur_class_id in range(s_iNum_classes):\n",
    "    #we unpickle here a 3d array with shape: image_ids, xs, ys\n",
    "    unpickled_cur_train_set = pickle.load(open(s_strListPickledTrainFilenames[cur_class_id]))\n",
    "    print (\"class \", cur_class_id)\n",
    "    for cur_image_id in range(len(unpickled_cur_train_set)):\n",
    "#         print (\"image\", cur_image_id)\n",
    "        all_counts[cur_class_id] += 1\n",
    "#         cur_image = unpickled_cur_train_set()\n",
    "        all_means[cur_class_id] += np.mean(unpickled_cur_train_set[cur_image_id])\n",
    "        all_variances[cur_class_id] += np.var(unpickled_cur_train_set[cur_image_id])\n",
    "        \n",
    "print (\"all_counts: %d\", all_counts)\n",
    "\n",
    "all_means = np.divide(all_means, s_iNum_classes)\n",
    "print (\"mean of all_means: \", all_means)\n",
    "\n",
    "all_variances = np.divide(all_variances, s_iNum_classes)\n",
    "print (\"mean of all_variances: \", all_variances)"
   ]
  },
  {
   "cell_type": "markdown",
   "metadata": {
    "colab_type": "text",
    "id": "LA7M7K22ynCt"
   },
   "source": [
    "Merge and prune the training data as needed. Depending on your computer setup, you might not be able to fit it all in memory, and you can tune `s_iTrainSize` as needed. The labels will be stored into a separate array of integers 0 through 9.\n",
    "\n",
    "Also create a validation dataset for hyperparameter tuning."
   ]
  },
  {
   "cell_type": "code",
   "execution_count": 5,
   "metadata": {
    "cellView": "both",
    "colab": {
     "autoexec": {
      "startup": false,
      "wait_interval": 0
     },
     "output_extras": [
      {
       "item_id": 1
      }
     ]
    },
    "colab_type": "code",
    "collapsed": false,
    "executionInfo": {
     "elapsed": 411281,
     "status": "ok",
     "timestamp": 1444485897869,
     "user": {
      "color": "#1FA15D",
      "displayName": "Vincent Vanhoucke",
      "isAnonymous": false,
      "isMe": true,
      "permissionId": "05076109866853157986",
      "photoUrl": "//lh6.googleusercontent.com/-cCJa7dTDcgQ/AAAAAAAAAAI/AAAAAAAACgw/r2EZ_8oYer4/s50-c-k-no/photo.jpg",
      "sessionId": "2a0a5e044bb03b66",
      "userId": "102167687554210253930"
     },
     "user_tz": 420
    },
    "id": "s3mWgZLpyuzq",
    "outputId": "8af66da6-902d-4719-bedc-7c9fb7ae7948",
    "scrolled": true
   },
   "outputs": [
    {
     "name": "stdout",
     "output_type": "stream",
     "text": [
      "notMNIST_large/A.pickle\n",
      "notMNIST_large/B.pickle\n",
      "notMNIST_large/C.pickle\n",
      "notMNIST_large/D.pickle\n",
      "notMNIST_large/E.pickle\n",
      "notMNIST_large/F.pickle\n",
      "notMNIST_large/G.pickle\n",
      "notMNIST_large/H.pickle\n",
      "notMNIST_large/I.pickle\n",
      "notMNIST_large/J.pickle\n",
      "notMNIST_small/A.pickle\n",
      "notMNIST_small/B.pickle\n",
      "notMNIST_small/C.pickle\n",
      "notMNIST_small/D.pickle\n",
      "notMNIST_small/E.pickle\n",
      "notMNIST_small/F.pickle\n",
      "notMNIST_small/G.pickle\n",
      "notMNIST_small/H.pickle\n",
      "notMNIST_small/I.pickle\n",
      "notMNIST_small/J.pickle\n",
      "Training: (200000, 28, 28) (200000,)\n",
      "Validation: (10000, 28, 28) (10000,)\n",
      "Testing: (10000, 28, 28) (10000,)\n"
     ]
    }
   ],
   "source": [
    "#from p_iNb_rows and p_iImg_size: \n",
    "#  return dataset:  an empty 3d array that is [p_iNb_rows, p_iImg_size, p_iImg_size]\n",
    "#  return labels: an empty vector that is [p_iNb_rows]\n",
    "def make_arrays(p_iNb_rows, p_iImg_size):\n",
    "  if p_iNb_rows:\n",
    "    dataset = np.ndarray((p_iNb_rows, p_iImg_size, p_iImg_size), dtype=np.float32)\n",
    "    labels = np.ndarray(p_iNb_rows, dtype=np.int32)\n",
    "  else:\n",
    "    dataset, labels = None, None\n",
    "  return dataset, labels\n",
    "\n",
    "#p_strListPickle_files is an array containing the filenames of the pickled data\n",
    "def merge_datasets(p_strListPickledFilenames, p_iTrainSize, p_iValidSize=0):\n",
    "  iNum_classes = len(p_strListPickledFilenames)\n",
    "  #make empty arrays for validation and training sets and labels\n",
    "  valid_dataset, valid_labels = make_arrays(p_iValidSize, s_iImage_size)\n",
    "  train_dataset, train_labels = make_arrays(p_iTrainSize, s_iImage_size)\n",
    "    \n",
    "  #number of items per class. // is an int division in python3, not sure in python2\n",
    "  iNbrOfValidItemsPerClass = p_iValidSize // iNum_classes\n",
    "  iNbrOfTrainItemPerClass = p_iTrainSize // iNum_classes\n",
    "  \n",
    "  #figure out useful indexes for the loop\n",
    "  iStartValidId, iStartTrainId = 0, 0\n",
    "  iEndValidId, iEndTrainId = iNbrOfValidItemsPerClass, iNbrOfTrainItemPerClass\n",
    "  iEndListId = iNbrOfValidItemsPerClass+iNbrOfTrainItemPerClass\n",
    "  \n",
    "  #for each file in p_strListPickledFilenames\n",
    "  for iPickleFileId, strPickleFilename in enumerate(p_strListPickledFilenames):       \n",
    "    try:\n",
    "      #open the file\n",
    "      with open(strPickleFilename, 'rb') as f:\n",
    "        print (strPickleFilename)\n",
    "        #unpicke 3d array for current file\n",
    "        threeDCurLetterSet = pickle.load(f)\n",
    "        # let's shuffle the items to have random validation and training set. \n",
    "        # np.random.shuffle suffles only first dimension\n",
    "        np.random.shuffle(threeDCurLetterSet)\n",
    "        \n",
    "        #if we asked for a validation set\n",
    "        if valid_dataset is not None:\n",
    "          #the first iNbrOfValidItemsPerClass items in letter_set are used for the validation set\n",
    "          threeDValidItems = threeDCurLetterSet[:iNbrOfValidItemsPerClass, :, :]\n",
    "          valid_dataset[iStartValidId:iEndValidId, :, :] = threeDValidItems\n",
    "          #label all images with the current file id \n",
    "          valid_labels[iStartValidId:iEndValidId] = iPickleFileId\n",
    "          #update ids for the train set\n",
    "          iStartValidId += iNbrOfValidItemsPerClass\n",
    "          iEndValidId   += iNbrOfValidItemsPerClass\n",
    "                    \n",
    "        #the rest of the items are used for the training set\n",
    "        threeDTrainItems = threeDCurLetterSet[iNbrOfValidItemsPerClass:iEndListId, :, :]\n",
    "        train_dataset[iStartTrainId:iEndTrainId, :, :] = threeDTrainItems\n",
    "        train_labels[iStartTrainId:iEndTrainId] = iPickleFileId\n",
    "        iStartTrainId += iNbrOfTrainItemPerClass\n",
    "        iEndTrainId += iNbrOfTrainItemPerClass\n",
    "    except Exception as e:\n",
    "      print('Unable to process data from', strPickleFilename, ':', e)\n",
    "      raise    \n",
    "  return valid_dataset, valid_labels, train_dataset, train_labels\n",
    "\n",
    "#original values            \n",
    "# s_iTrainSize = 200000\n",
    "# s_iValid_size = 10000\n",
    "# s_iTestSize = 10000\n",
    "s_iTrainSize = 200000\n",
    "s_iValid_size = 10000\n",
    "s_iTestSize = 10000\n",
    "\n",
    "#call merge_datasets on data_sets and labels\n",
    "s_threeDValidDataset, s_vValidLabels, s_threeDTrainDataset, s_vTrainLabels = merge_datasets(s_strListPickledTrainFilenames, s_iTrainSize, s_iValid_size)\n",
    "_,                    _,              s_threeDTestDataset,  s_vTestLabels  = merge_datasets(s_strListPickledTestFilenames, s_iTestSize)\n",
    "\n",
    "#print shapes for data sets and their respective labels. data sets are 3d arrays with [image_id,x,y] and labels\n",
    "#are [image_ids]\n",
    "print('Training:',   s_threeDTrainDataset.shape, s_vTrainLabels.shape)\n",
    "print('Validation:', s_threeDValidDataset.shape, s_vValidLabels.shape)\n",
    "print('Testing:',    s_threeDTestDataset.shape,  s_vTestLabels.shape)"
   ]
  },
  {
   "cell_type": "markdown",
   "metadata": {
    "colab_type": "text",
    "id": "GPTCnjIcyuKN"
   },
   "source": [
    "Next, we'll randomize the data. It's important to have the labels well shuffled for the training and test distributions to match."
   ]
  },
  {
   "cell_type": "code",
   "execution_count": 6,
   "metadata": {
    "cellView": "both",
    "colab": {
     "autoexec": {
      "startup": false,
      "wait_interval": 0
     }
    },
    "colab_type": "code",
    "collapsed": false,
    "id": "6WZ2l2tN2zOL"
   },
   "outputs": [
    {
     "name": "stdout",
     "output_type": "stream",
     "text": [
      "(200000, 28, 28)\n",
      "(10000, 28, 28)\n",
      "(10000, 28, 28)\n"
     ]
    }
   ],
   "source": [
    "def randomize(p_3dDataset, p_vLabels):\n",
    "    #with int x as parameter, np.random.permutation returns a random permutation of np.arange(x)\n",
    "    vPermutation = np.random.permutation(p_vLabels.shape[0])\n",
    "    threeDShuffledDataset = p_3dDataset[vPermutation,:,:]\n",
    "    threeDShuffledLabels  = p_vLabels  [vPermutation]\n",
    "    return threeDShuffledDataset, threeDShuffledLabels\n",
    "\n",
    "s_threeDTrainDataset, s_vTrainLabels = randomize(s_threeDTrainDataset, s_vTrainLabels)\n",
    "s_threeDTestDataset,  s_vTestLabels  = randomize(s_threeDTestDataset,  s_vTestLabels)\n",
    "s_threeDValidDataset, s_vValidLabels = randomize(s_threeDValidDataset, s_vValidLabels)\n",
    "\n",
    "print(s_threeDTrainDataset.shape)\n",
    "print(s_threeDTestDataset.shape)\n",
    "print(s_threeDValidDataset.shape)"
   ]
  },
  {
   "cell_type": "markdown",
   "metadata": {
    "colab_type": "text",
    "id": "puDUTe6t6USl"
   },
   "source": [
    "---\n",
    "Problem 4\n",
    "---------\n",
    "Convince yourself that the data is still good after shuffling!\n",
    "\n",
    "---"
   ]
  },
  {
   "cell_type": "code",
   "execution_count": null,
   "metadata": {
    "collapsed": false
   },
   "outputs": [],
   "source": [
    "######################################## SKIP THIS CELL ############################################\n",
    "#cycle through train, validation, and test sets to count how many items we have for each label, and calculate\n",
    "#their mean and variance\n",
    "s_vAllShuffledMeans = np.zeros(3)\n",
    "s_vAllShuffledVars  = np.zeros(3)\n",
    "\n",
    "for iCurTrainingImageId in range(s_threeDTrainDataset.shape[0]):\n",
    "    s_vAllShuffledMeans[0] += np.mean(s_threeDTrainDataset[iCurTrainingImageId]) / s_threeDTrainDataset.shape[0]\n",
    "    s_vAllShuffledVars[0] += np.var(s_threeDTrainDataset[iCurTrainingImageId]) / s_threeDTrainDataset.shape[0]\n",
    "\n",
    "print (\"TRAIN mean: \", s_vAllShuffledMeans[0], \"\\t variance:\", s_vAllShuffledVars[0])\n",
    "\n",
    "for iCurTestImageId in range(s_threeDTestDataset.shape[0]):\n",
    "    s_vAllShuffledMeans[1] += np.mean(s_threeDTestDataset[iCurTestImageId]) / s_threeDTestDataset.shape[0]\n",
    "    s_vAllShuffledVars[1] += np.var(s_threeDTestDataset[iCurTestImageId]) / s_threeDTestDataset.shape[0]\n",
    "\n",
    "print (\"TEST  mean: \", s_vAllShuffledMeans[1], \"\\t variance:\", s_vAllShuffledVars[1])\n",
    "    \n",
    "for iCurValidImageId in range(s_threeDValidDataset.shape[0]):\n",
    "    s_vAllShuffledMeans[2] += np.mean(s_threeDValidDataset[iCurValidImageId]) / s_threeDValidDataset.shape[0]\n",
    "    s_vAllShuffledVars[2] += np.var(s_threeDValidDataset[iCurValidImageId]) / s_threeDValidDataset.shape[0]\n",
    "\n",
    "print (\"VALID mean: \", s_vAllShuffledMeans[2], \"\\t variance:\", s_vAllShuffledVars[2])"
   ]
  },
  {
   "cell_type": "markdown",
   "metadata": {
    "colab_type": "text",
    "id": "tIQJaJuwg5Hw"
   },
   "source": [
    "Finally, let's save the data for later reuse:"
   ]
  },
  {
   "cell_type": "code",
   "execution_count": 7,
   "metadata": {
    "cellView": "both",
    "colab": {
     "autoexec": {
      "startup": false,
      "wait_interval": 0
     }
    },
    "colab_type": "code",
    "collapsed": true,
    "id": "QiR_rETzem6C"
   },
   "outputs": [],
   "source": [
    "pickle_file = 'notMNIST.pickle'\n",
    "\n",
    "try:\n",
    "  f = open(pickle_file, 'wb')\n",
    "  save = {\n",
    "    'train_dataset': s_threeDTrainDataset,\n",
    "    'train_labels': s_vTrainLabels,\n",
    "    'valid_dataset': s_threeDValidDataset,\n",
    "    'valid_labels': s_vValidLabels,\n",
    "    'test_dataset': s_threeDTestDataset,\n",
    "    'test_labels': s_vTestLabels,\n",
    "    }\n",
    "  pickle.dump(save, f, pickle.HIGHEST_PROTOCOL)\n",
    "  f.close()\n",
    "except Exception as e:\n",
    "  print('Unable to save data to', pickle_file, ':', e)\n",
    "  raise"
   ]
  },
  {
   "cell_type": "code",
   "execution_count": 8,
   "metadata": {
    "cellView": "both",
    "colab": {
     "autoexec": {
      "startup": false,
      "wait_interval": 0
     },
     "output_extras": [
      {
       "item_id": 1
      }
     ]
    },
    "colab_type": "code",
    "collapsed": false,
    "executionInfo": {
     "elapsed": 413065,
     "status": "ok",
     "timestamp": 1444485899688,
     "user": {
      "color": "#1FA15D",
      "displayName": "Vincent Vanhoucke",
      "isAnonymous": false,
      "isMe": true,
      "permissionId": "05076109866853157986",
      "photoUrl": "//lh6.googleusercontent.com/-cCJa7dTDcgQ/AAAAAAAAAAI/AAAAAAAACgw/r2EZ_8oYer4/s50-c-k-no/photo.jpg",
      "sessionId": "2a0a5e044bb03b66",
      "userId": "102167687554210253930"
     },
     "user_tz": 420
    },
    "id": "hQbLjrW_iT39",
    "outputId": "b440efc6-5ee1-4cbc-d02d-93db44ebd956"
   },
   "outputs": [
    {
     "name": "stdout",
     "output_type": "stream",
     "text": [
      "Compressed pickle size: 690800441\n"
     ]
    }
   ],
   "source": [
    "statinfo = os.stat(pickle_file)\n",
    "print('Compressed pickle size:', statinfo.st_size)"
   ]
  },
  {
   "cell_type": "markdown",
   "metadata": {
    "colab_type": "text",
    "id": "gE_cRAQB33lk"
   },
   "source": [
    "---\n",
    "Problem 5\n",
    "---------\n",
    "\n",
    "By construction, this dataset might contain a lot of overlapping samples, including training data that's also contained in the validation and test set! Overlap between training and test can skew the results if you expect to use your model in an environment where there is never an overlap, but are actually ok if you expect to see training samples recur when you use it.\n",
    "Measure how much overlap there is between training, validation and test samples.\n",
    "\n",
    "Optional questions:\n",
    "- What about near duplicates between datasets? (images that are almost identical)\n",
    "- Create a sanitized validation and test set, and compare your accuracy on those in subsequent assignments.\n",
    "---"
   ]
  },
  {
   "cell_type": "code",
   "execution_count": 14,
   "metadata": {
    "collapsed": false,
    "scrolled": true
   },
   "outputs": [
    {
     "name": "stdout",
     "output_type": "stream",
     "text": [
      "12568.0\n",
      "1270.0\n"
     ]
    }
   ],
   "source": [
    "######################################## SKIP THIS CELL ############################################\n",
    "# all_doubles = np.zeros(2)\n",
    "\n",
    "# for iCurTrainImageId in range(s_threeDTrainDataset.shape[0]):\n",
    "#     if iCurTrainImageId % 10 == 0:\n",
    "#         print (iCurTrainImageId)\n",
    "#     for iCurTestImageId in range(s_threeDTestDataset.shape[0]):\n",
    "#         if np.array_equal(s_threeDTrainDataset[iCurTrainImageId], s_threeDTestDataset[iCurTestImageId]):\n",
    "#             all_doubles[0] += 1\n",
    "            \n",
    "#     for iCurValidImageId in range(s_threeDValidDataset.shape[0]):\n",
    "#         if np.array_equal(s_threeDTrainDataset[iCurTrainImageId], s_threeDValidDataset[iCurValidImageId]):\n",
    "#             all_doubles[1] += 1\n",
    "\n",
    "# print(all_doubles[0])\n",
    "# print(all_doubles[1])\n",
    "\n",
    "#eythian solution, with my edits\n",
    "all_doubles = np.zeros(2)\n",
    "s_threeDTrainDataset.flags.writeable=False  #this is probably optional\n",
    "s_threeDTestDataset.flags.writeable=False\n",
    "dup_dict={}   #using {} declares a dictionary. this dictionnary will store pairs of keys (image hash) and values (train_data image id)\n",
    "for idx,img in enumerate(s_threeDTrainDataset):\n",
    "    h = hash(img.data)   #hash returns a hash value for its argument. equal numerical arguments produce the same hash value\n",
    "    #'h in dup_dict' tests whether the dictionnary contains the h key, I assume this is very fast\n",
    "    if h in dup_dict: # and (s_threeDTrainDataset[dup_dict[h]].data == img.data): #the second part of this is probably redundant...\n",
    "        #print ('Duplicate image: %d matches %d' % (idx, dup_dict[h]))\n",
    "        all_doubles[0] += 1\n",
    "    dup_dict[h] = idx\n",
    "for idx,img in enumerate(s_threeDTestDataset):\n",
    "    h = hash(img.data)\n",
    "    if h in dup_dict: # and (s_threeDTrainDataset[dup_dict[h]].data == img.data): #vb commented this last part, it doesn't do anything\n",
    "        #print ('Test image %d is in the training set' % idx)\n",
    "        all_doubles[1] += 1\n",
    "print(all_doubles[0])\n",
    "print(all_doubles[1])"
   ]
  },
  {
   "cell_type": "markdown",
   "metadata": {
    "colab_type": "text",
    "id": "L8oww1s4JMQx"
   },
   "source": [
    "\n",
    "---\n",
    "Problem 6\n",
    "---------\n",
    "\n",
    "Let's get an idea of what an off-the-shelf classifier can give you on this data. It's always good to check that there is something to learn, and that it's a problem that is not so trivial that a canned solution solves it.\n",
    "\n",
    "Train a simple model on this data using 50, 100, 1000 and 5000 training samples. Hint: you can use the LogisticRegression model from sklearn.linear_model.\n",
    "\n",
    "Optional question: train an off-the-shelf model on all the data!\n",
    "\n",
    "---"
   ]
  },
  {
   "cell_type": "code",
   "execution_count": null,
   "metadata": {
    "collapsed": true
   },
   "outputs": [],
   "source": [
    "### taking inspiration from http://scikit-learn.org/stable/auto_examples/calibration/plot_compare_calibration.html#example-calibration-plot-compare-calibration-py\n",
    "\n",
    "train_samples = 100  # number of samples used for training\n",
    "test_samples = 50    #number of samples for test\n",
    "\n",
    "#training patterns. x is input pattern, y is target pattern or label\n",
    "X_train = s_threeDTrainDataset[:train_samples]\n",
    "y_train = s_vTrainLabels[:train_samples]\n",
    "\n",
    "#test patterns\n",
    "X_test = s_threeDTestDataset[:test_samples]\n",
    "y_test = s_vTestLabels[:test_samples]\n",
    "\n",
    "# Create classifiers\n",
    "lr = LogisticRegression()\n",
    "lr.fit(X_train, y_train)"
   ]
  }
 ],
 "metadata": {
  "colab": {
   "default_view": {},
   "name": "1_notmnist.ipynb",
   "provenance": [],
   "version": "0.3.2",
   "views": {}
  },
  "kernelspec": {
   "display_name": "Python 2",
   "language": "python",
   "name": "python2"
  },
  "language_info": {
   "codemirror_mode": {
    "name": "ipython",
    "version": 2
   },
   "file_extension": ".py",
   "mimetype": "text/x-python",
   "name": "python",
   "nbconvert_exporter": "python",
   "pygments_lexer": "ipython2",
   "version": "2.7.6"
  }
 },
 "nbformat": 4,
 "nbformat_minor": 0
}
